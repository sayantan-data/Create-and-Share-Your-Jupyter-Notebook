{
 "cells": [
  {
   "cell_type": "markdown",
   "id": "b7c88b85-c873-490e-b19f-9ca267195afe",
   "metadata": {},
   "source": [
    "| \"My Jupyter Notebook on IBM Watson Studio\" |"
   ]
  },
  {
   "cell_type": "markdown",
   "id": "402278c7-bf7f-441a-be47-b1a35b25e3af",
   "metadata": {},
   "source": [
    "Bold text: __Sayantan Bhattacharya / Data Analyst__"
   ]
  },
  {
   "cell_type": "markdown",
   "id": "0a272e42-55dc-4c58-834c-d763f5c85c89",
   "metadata": {},
   "source": [
    "*\"I am interested in data science because I enjoy collecting, analyzing and presenting data based on Facts and evidence.\"*"
   ]
  },
  {
   "cell_type": "markdown",
   "id": "09930f6d-90b4-426d-aa7e-7a6316607ecb",
   "metadata": {},
   "source": [
    "### It is simple math display in below cell"
   ]
  },
  {
   "cell_type": "code",
   "execution_count": 1,
   "id": "c04cb92e-2dd2-441c-bf7b-b12c3ea0b61c",
   "metadata": {},
   "outputs": [],
   "source": [
    "a = 1\n",
    "b = 2\n",
    "c = a+b"
   ]
  },
  {
   "cell_type": "code",
   "execution_count": 2,
   "id": "94508684-a04d-431a-b933-a6da2d05b679",
   "metadata": {},
   "outputs": [
    {
     "name": "stdout",
     "output_type": "stream",
     "text": [
      "3\n"
     ]
    }
   ],
   "source": [
    "print(c)"
   ]
  },
  {
   "cell_type": "markdown",
   "id": "711578d5-57d8-4bef-8814-5aaabcdc4a05",
   "metadata": {},
   "source": [
    "#### Horizontal rule"
   ]
  },
  {
   "cell_type": "markdown",
   "id": "948901e5-fcad-43b0-bb18-0e55ab6c579c",
   "metadata": {},
   "source": [
    "- Main bullet point\n",
    "     - Sub bullet point"
   ]
  },
  {
   "cell_type": "markdown",
   "id": "6a96b452-faca-4eaa-beb4-3b82130043ca",
   "metadata": {},
   "source": [
    "1. Watson\n",
    "1. Studio"
   ]
  },
  {
   "cell_type": "markdown",
   "id": "de22ee23-a1db-4d3a-b76f-f237b3feab7a",
   "metadata": {},
   "source": [
    "| Tables        | Are           | Cool  |\n",
    "| ------------- |:-------------:| -----:|\n",
    "| col 3 is      | right-aligned | $1600 |\n",
    "| col 2 is      | centered      |   $12 |\n",
    "| zebra stripes | are neat      |    $1 |"
   ]
  },
  {
   "cell_type": "markdown",
   "id": "0e4780c8-c8e9-4813-813f-8acb631f2c27",
   "metadata": {},
   "source": [
    "[logo]: https://github.com/adam-p/markdown-here/raw/master/src/common/images/icon48.png \"Logo Title Text 2\""
   ]
  },
  {
   "cell_type": "markdown",
   "id": "e646c4fc-25c4-4445-9eef-c27122224012",
   "metadata": {},
   "source": [
    "[arbitrary case-insensitive reference text]: https://www.mozilla.org\n",
    "[1]: http://slashdot.org\n",
    "[link text itself]: http://www.reddit.com"
   ]
  },
  {
   "cell_type": "markdown",
   "id": "43cd190b-2a23-47d3-b71f-bb2acefcde20",
   "metadata": {},
   "source": [
    "```python\n",
    "s = \"Python syntax highlighting\"\n",
    "print s\n",
    "```"
   ]
  },
  {
   "cell_type": "markdown",
   "id": "38c9e117-42db-4cdc-a068-ed5c0c741374",
   "metadata": {},
   "source": [
    "![R.jpg](attachment:R.jpg)"
   ]
  },
  {
   "cell_type": "code",
   "execution_count": null,
   "id": "80c21ec9-259a-4a0b-b1db-842bb50434ce",
   "metadata": {},
   "outputs": [],
   "source": []
  }
 ],
 "metadata": {
  "kernelspec": {
   "display_name": "Python",
   "language": "python",
   "name": "conda-env-python-py"
  },
  "language_info": {
   "codemirror_mode": {
    "name": "ipython",
    "version": 3
   },
   "file_extension": ".py",
   "mimetype": "text/x-python",
   "name": "python",
   "nbconvert_exporter": "python",
   "pygments_lexer": "ipython3",
   "version": "3.7.12"
  }
 },
 "nbformat": 4,
 "nbformat_minor": 5
}
